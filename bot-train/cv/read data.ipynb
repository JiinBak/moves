{
 "cells": [
  {
   "cell_type": "code",
   "execution_count": 41,
   "metadata": {
    "collapsed": true
   },
   "outputs": [],
   "source": [
    "%matplotlib inline\n",
    "import cPickle\n",
    "import os\n",
    "import random\n",
    "\n",
    "from matplotlib import pyplot as plt\n",
    "import numpy as np\n",
    "import pandas as pd\n",
    "import scipy\n",
    "from scipy.signal import butter, lfilter, periodogram\n",
    "from sklearn.ensemble import RandomForestClassifier\n",
    "\n",
    "from sliding_window import sliding_window\n",
    "\n",
    "import pandas as pd\n",
    "from train_functions import *"
   ]
  },
  {
   "cell_type": "code",
   "execution_count": 327,
   "metadata": {
    "collapsed": false
   },
   "outputs": [
    {
     "name": "stderr",
     "output_type": "stream",
     "text": [
      "/anaconda/lib/python2.7/site-packages/ipykernel/__main__.py:1: ParserWarning: Falling back to the 'python' engine because the 'c' engine does not support regex separators; you can avoid this warning by specifying engine='python'.\n",
      "  if __name__ == '__main__':\n",
      "/anaconda/lib/python2.7/site-packages/ipykernel/__main__.py:2: ParserWarning: Falling back to the 'python' engine because the 'c' engine does not support regex separators; you can avoid this warning by specifying engine='python'.\n",
      "  from ipykernel import kernelapp as app\n"
     ]
    }
   ],
   "source": [
    "df = pd.read_csv('data.txt',header=None,delimiter='sdafsdafdsaagdfgfdfds')\n",
    "df = pd.read_csv('data_rest_walk_side',header=None,delimiter='sdafsdafdsaagdfgfdfds')\n",
    "# df = pd.read_csv('data2.txt',header=None,delimiter='sdafsdafdsaagdfgfdfds')\n",
    "# df = pd.read_csv('data_rest_walk_side2',header=None,delimiter='sdafsdafdsaagdfgfdfds')\n",
    "\n",
    "\n",
    "_d = eval(df.iloc[0,0])\n"
   ]
  },
  {
   "cell_type": "code",
   "execution_count": 328,
   "metadata": {
    "collapsed": false
   },
   "outputs": [],
   "source": [
    "def json2ts(di):\n",
    "    time_label = [eval(di)[v] for v in ['timestamp','label']]\n",
    "    xyz = [float(eval(di)['motion'][c]) for c in ['x','y','z']]\n",
    "    return time_label + xyz\n",
    "\n",
    "td = [json2ts(v) for v in _d]"
   ]
  },
  {
   "cell_type": "code",
   "execution_count": 329,
   "metadata": {
    "collapsed": false
   },
   "outputs": [
    {
     "name": "stdout",
     "output_type": "stream",
     "text": [
      "set([u'standing', u'walking', u'side 2 side'])\n",
      "standing: 18 training examples\n",
      "walking: 18 training examples\n",
      "side 2 side: 18 training examples\n"
     ]
    },
    {
     "data": {
      "text/plain": [
       "RandomForestClassifier(bootstrap=True, class_weight=None, criterion='gini',\n",
       "            max_depth=None, max_features='auto', max_leaf_nodes=None,\n",
       "            min_samples_leaf=1, min_samples_split=2,\n",
       "            min_weight_fraction_leaf=0.0, n_estimators=150, n_jobs=1,\n",
       "            oob_score=False, random_state=None, verbose=0,\n",
       "            warm_start=False)"
      ]
     },
     "execution_count": 329,
     "metadata": {},
     "output_type": "execute_result"
    }
   ],
   "source": [
    "# variables\n",
    "win_size = 30 \n",
    "fmin,fmax,sr = 0,8,win_size\n",
    "over_lap = win_size/2\n",
    "component_names = ['x','y','z']\n",
    "cnames = ['time','label'] + component_names\n",
    "\n",
    "\n",
    "df = pd.DataFrame(td,columns = cnames)\n",
    "movement_names = set(df['label'])\n",
    "print movement_names\n",
    "# build features\n",
    "y,mw = [],[]\n",
    "for label in movement_names:\n",
    "    _mw,_y = gen_td_examples(df,win_size,over_lap,component_names,label)\n",
    "    print \"{}: {} training examples\".format(label, _mw[0].shape[0])\n",
    "    mw.append(_mw)\n",
    "    y.extend(_y)\n",
    "\n",
    "\n",
    "mw = np.hstack(mw)\n",
    "y = np.array(y)\n",
    "\n",
    "tF = np.hstack([gen_td_features(ts) for ts in mw])\n",
    "fF = np.hstack([gen_fd_features(ts,fmin,fmax,sr) for ts in mw])\n",
    "X  = np.hstack([tF,fF])\n",
    "\n",
    "cl = RandomForestClassifier(n_estimators=150)\n",
    "cl.fit(X, y)"
   ]
  },
  {
   "cell_type": "code",
   "execution_count": 330,
   "metadata": {
    "collapsed": false,
    "scrolled": true
   },
   "outputs": [
    {
     "name": "stdout",
     "output_type": "stream",
     "text": [
      "(884, 5)\n"
     ]
    },
    {
     "data": {
      "image/png": "[encoded data removed]",
      "text/plain": [
       "<matplotlib.figure.Figure at 0x10e96f650>"
      ]
     },
     "metadata": {},
     "output_type": "display_data"
    }
   ],
   "source": [
    "plt.plot(df['y'])\n",
    "print df.shape"
   ]
  },
  {
   "cell_type": "code",
   "execution_count": 331,
   "metadata": {
    "collapsed": true
   },
   "outputs": [],
   "source": [
    "avg_score = []\n",
    "avg_log_loss = []\n",
    "for i in range(10):\n",
    "    rand_ix  = np.random.choice(range(len(y)),len(y),replace = False)\n",
    "    train_ix = rand_ix[0:27]\n",
    "    test_ix  = rand_ix[27:]\n",
    "\n",
    "    train_X  = X[train_ix]\n",
    "    train_y  = y[train_ix]\n",
    "\n",
    "    test_X   = X[test_ix]\n",
    "    test_y   = y[test_ix]\n",
    "\n",
    "    cl.fit(train_X, train_y)\n",
    "    avg_score.append(cl.score(test_X,test_y))\n",
    "    avg_log_loss.append(sklearn.metrics.log_loss(test_y,cl.predict_proba(test_X)))\n"
   ]
  },
  {
   "cell_type": "code",
   "execution_count": 335,
   "metadata": {
    "collapsed": false
   },
   "outputs": [
    {
     "data": {
      "text/plain": [
       "{u'side 2 side', u'standing', u'walking'}"
      ]
     },
     "execution_count": 335,
     "metadata": {},
     "output_type": "execute_result"
    }
   ],
   "source": [
    "set(df.label)"
   ]
  },
  {
   "cell_type": "code",
   "execution_count": 336,
   "metadata": {
    "collapsed": false,
    "scrolled": true
   },
   "outputs": [],
   "source": [
    "l,l1,l2 = 'rest','rest1','rest2'\n",
    "l,l1,l2 = 'rest','walking','side 2 side'\n",
    "l,l1,l2 = 'standing','walking','side 2 side'\n",
    "\n",
    "a=df[df['label']== l]['z']\n",
    "b=df[df['label']== l1]['z']\n",
    "c=df[df['label']== l2]['z']"
   ]
  },
  {
   "cell_type": "code",
   "execution_count": 338,
   "metadata": {
    "collapsed": false
   },
   "outputs": [
    {
     "data": {
      "text/plain": [
       "Ks_2sampResult(statistic=0.62279488066413013, pvalue=4.2792411505415096e-51)"
      ]
     },
     "execution_count": 338,
     "metadata": {},
     "output_type": "execute_result"
    }
   ],
   "source": [
    "from scipy.stats import ks_2samp\n",
    "ks_2samp(a,c)"
   ]
  },
  {
   "cell_type": "code",
   "execution_count": 265,
   "metadata": {
    "collapsed": false
   },
   "outputs": [
    {
     "name": "stdout",
     "output_type": "stream",
     "text": [
      "[ 0.66666667  0.51851852]\n"
     ]
    }
   ],
   "source": [
    "from sklearn import cross_validation\n",
    "clf = cl\n",
    "shuffle = cross_validation.KFold(len(X), n_folds=2, shuffle=True, random_state=1)\n",
    "scores = cross_validation.cross_val_score(clf, X, y, cv=shuffle)\n",
    "print scores"
   ]
  },
  {
   "cell_type": "code",
   "execution_count": null,
   "metadata": {
    "collapsed": true
   },
   "outputs": [],
   "source": []
  }
 ],
 "metadata": {
  "kernelspec": {
   "display_name": "Python 2",
   "language": "python",
   "name": "python2"
  },
  "language_info": {
   "codemirror_mode": {
    "name": "ipython",
    "version": 2
   },
   "file_extension": ".py",
   "mimetype": "text/x-python",
   "name": "python",
   "nbconvert_exporter": "python",
   "pygments_lexer": "ipython2",
   "version": "2.7.11"
  }
 },
 "nbformat": 4,
 "nbformat_minor": 0
}
